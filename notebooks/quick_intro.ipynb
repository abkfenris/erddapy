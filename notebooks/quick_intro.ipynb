{
 "cells": [
  {
   "cell_type": "markdown",
   "metadata": {},
   "source": [
    "# Quick introduction"
   ]
  },
  {
   "cell_type": "markdown",
   "metadata": {},
   "source": [
    "`erddapy` can be installed with `conda`\n",
    "\n",
    "\n",
    "```shell\n",
    "conda install --channel conda-forge erddapy\n",
    "```\n",
    "\n",
    " or `pip`\n",
    "\n",
    "```shell\n",
    "pip install erddapy\n",
    "```"
   ]
  },
  {
   "cell_type": "markdown",
   "metadata": {},
   "source": [
    "First we need to instantiate the erddapy server object."
   ]
  },
  {
   "cell_type": "code",
   "execution_count": 1,
   "metadata": {},
   "outputs": [],
   "source": [
    "from erddapy import ERDDAP\n",
    "\n",
    "\n",
    "e = ERDDAP(\n",
    "    server=\"https://gliders.ioos.us/erddap\",\n",
    "    protocol=\"tabledap\",\n",
    "    response=\"csv\",\n",
    ")"
   ]
  },
  {
   "cell_type": "markdown",
   "metadata": {},
   "source": [
    "Now we can populate the object with constraints, the variables of interest, and the dataset id."
   ]
  },
  {
   "cell_type": "code",
   "execution_count": 2,
   "metadata": {},
   "outputs": [
    {
     "name": "stdout",
     "output_type": "stream",
     "text": [
      "https://gliders.ioos.us/erddap/tabledap/whoi_406-20160902T1700.csv?depth,latitude,longitude,salinity,temperature,time&time>=1468108800.0&time<=1486684800.0&latitude>=38.0&latitude<=41.0&longitude>=-72.0&longitude<=-69.0\n"
     ]
    }
   ],
   "source": [
    "e.dataset_id = \"whoi_406-20160902T1700\"\n",
    "\n",
    "e.constraints = {\n",
    "    \"time>=\": \"2016-07-10T00:00:00Z\",\n",
    "    \"time<=\": \"2017-02-10T00:00:00Z\",\n",
    "    \"latitude>=\": 38.0,\n",
    "    \"latitude<=\": 41.0,\n",
    "    \"longitude>=\": -72.0,\n",
    "    \"longitude<=\": -69.0,\n",
    "}\n",
    "\n",
    "e.variables = [\n",
    "    \"depth\",\n",
    "    \"latitude\",\n",
    "    \"longitude\",\n",
    "    \"salinity\",\n",
    "    \"temperature\",\n",
    "    \"time\",\n",
    "]\n",
    "\n",
    "\n",
    "url = e.get_download_url()\n",
    "\n",
    "print(url)"
   ]
  },
  {
   "cell_type": "code",
   "execution_count": 3,
   "metadata": {},
   "outputs": [
    {
     "data": {
      "text/html": [
       "<div>\n",
       "<style scoped>\n",
       "    .dataframe tbody tr th:only-of-type {\n",
       "        vertical-align: middle;\n",
       "    }\n",
       "\n",
       "    .dataframe tbody tr th {\n",
       "        vertical-align: top;\n",
       "    }\n",
       "\n",
       "    .dataframe thead th {\n",
       "        text-align: right;\n",
       "    }\n",
       "</style>\n",
       "<table border=\"1\" class=\"dataframe\">\n",
       "  <thead>\n",
       "    <tr style=\"text-align: right;\">\n",
       "      <th></th>\n",
       "      <th>depth (m)</th>\n",
       "      <th>latitude (degrees_north)</th>\n",
       "      <th>longitude (degrees_east)</th>\n",
       "      <th>salinity (1)</th>\n",
       "      <th>temperature (Celsius)</th>\n",
       "    </tr>\n",
       "    <tr>\n",
       "      <th>time (UTC)</th>\n",
       "      <th></th>\n",
       "      <th></th>\n",
       "      <th></th>\n",
       "      <th></th>\n",
       "      <th></th>\n",
       "    </tr>\n",
       "  </thead>\n",
       "  <tbody>\n",
       "    <tr>\n",
       "      <th>2016-09-03 20:15:46+00:00</th>\n",
       "      <td>5.35</td>\n",
       "      <td>40.990881</td>\n",
       "      <td>-71.12439</td>\n",
       "      <td>32.245422</td>\n",
       "      <td>20.6620</td>\n",
       "    </tr>\n",
       "    <tr>\n",
       "      <th>2016-09-03 20:15:46+00:00</th>\n",
       "      <td>6.09</td>\n",
       "      <td>40.990881</td>\n",
       "      <td>-71.12439</td>\n",
       "      <td>32.223183</td>\n",
       "      <td>20.6512</td>\n",
       "    </tr>\n",
       "    <tr>\n",
       "      <th>2016-09-03 20:15:46+00:00</th>\n",
       "      <td>6.72</td>\n",
       "      <td>40.990881</td>\n",
       "      <td>-71.12439</td>\n",
       "      <td>32.237950</td>\n",
       "      <td>20.6047</td>\n",
       "    </tr>\n",
       "    <tr>\n",
       "      <th>2016-09-03 20:15:46+00:00</th>\n",
       "      <td>7.37</td>\n",
       "      <td>40.990881</td>\n",
       "      <td>-71.12439</td>\n",
       "      <td>32.235470</td>\n",
       "      <td>20.5843</td>\n",
       "    </tr>\n",
       "    <tr>\n",
       "      <th>2016-09-03 20:15:46+00:00</th>\n",
       "      <td>8.43</td>\n",
       "      <td>40.990881</td>\n",
       "      <td>-71.12439</td>\n",
       "      <td>32.224503</td>\n",
       "      <td>20.5691</td>\n",
       "    </tr>\n",
       "  </tbody>\n",
       "</table>\n",
       "</div>"
      ],
      "text/plain": [
       "                           depth (m)  latitude (degrees_north)  \\\n",
       "time (UTC)                                                       \n",
       "2016-09-03 20:15:46+00:00       5.35                 40.990881   \n",
       "2016-09-03 20:15:46+00:00       6.09                 40.990881   \n",
       "2016-09-03 20:15:46+00:00       6.72                 40.990881   \n",
       "2016-09-03 20:15:46+00:00       7.37                 40.990881   \n",
       "2016-09-03 20:15:46+00:00       8.43                 40.990881   \n",
       "\n",
       "                           longitude (degrees_east)  salinity (1)  \\\n",
       "time (UTC)                                                          \n",
       "2016-09-03 20:15:46+00:00                 -71.12439     32.245422   \n",
       "2016-09-03 20:15:46+00:00                 -71.12439     32.223183   \n",
       "2016-09-03 20:15:46+00:00                 -71.12439     32.237950   \n",
       "2016-09-03 20:15:46+00:00                 -71.12439     32.235470   \n",
       "2016-09-03 20:15:46+00:00                 -71.12439     32.224503   \n",
       "\n",
       "                           temperature (Celsius)  \n",
       "time (UTC)                                        \n",
       "2016-09-03 20:15:46+00:00                20.6620  \n",
       "2016-09-03 20:15:46+00:00                20.6512  \n",
       "2016-09-03 20:15:46+00:00                20.6047  \n",
       "2016-09-03 20:15:46+00:00                20.5843  \n",
       "2016-09-03 20:15:46+00:00                20.5691  "
      ]
     },
     "execution_count": 3,
     "metadata": {},
     "output_type": "execute_result"
    }
   ],
   "source": [
    "import pandas as pd\n",
    "\n",
    "\n",
    "df = e.to_pandas(\n",
    "    index_col=\"time (UTC)\",\n",
    "    parse_dates=True,\n",
    ").dropna()\n",
    "\n",
    "df.head()"
   ]
  },
  {
   "cell_type": "code",
   "execution_count": 4,
   "metadata": {},
   "outputs": [
    {
     "name": "stderr",
     "output_type": "stream",
     "text": [
      "/home/filipe/miniconda3/envs/ERDDAPY/lib/python3.7/site-packages/pandas/plotting/_matplotlib/converter.py:102: FutureWarning: Using an implicitly registered datetime converter for a matplotlib plotting method. The converter was registered by pandas on import. Future versions of pandas will require you to explicitly register matplotlib converters.\n",
      "\n",
      "To register the converters:\n",
      "\t>>> from pandas.plotting import register_matplotlib_converters\n",
      "\t>>> register_matplotlib_converters()\n",
      "  warnings.warn(msg, FutureWarning)\n"
     ]
    },
    {
     "data": {
      "image/png": "[encoded data removed]",
      "text/plain": [
       "<Figure size 1224x144 with 2 Axes>"
      ]
     },
     "metadata": {
      "needs_background": "light"
     },
     "output_type": "display_data"
    }
   ],
   "source": [
    "%matplotlib inline\n",
    "import matplotlib.pyplot as plt\n",
    "import matplotlib.dates as mdates\n",
    "\n",
    "fig, ax = plt.subplots(figsize=(17, 2))\n",
    "cs = ax.scatter(\n",
    "    df.index,\n",
    "    df[\"depth (m)\"],\n",
    "    s=15,\n",
    "    c=df[\"temperature (Celsius)\"],\n",
    "    marker=\"o\",\n",
    "    edgecolor=\"none\"\n",
    ")\n",
    "\n",
    "ax.invert_yaxis()\n",
    "ax.set_xlim(df.index[0], df.index[-1])\n",
    "xfmt = mdates.DateFormatter(\"%H:%Mh\\n%d-%b\")\n",
    "ax.xaxis.set_major_formatter(xfmt)\n",
    "\n",
    "cbar = fig.colorbar(cs, orientation=\"vertical\", extend=\"both\")\n",
    "cbar.ax.set_ylabel(\"Temperature ($^\\circ$C)\")\n",
    "ax.set_ylabel(\"Depth (m)\");"
   ]
  },
  {
   "cell_type": "markdown",
   "metadata": {},
   "source": [
    "# Longer introduction\n",
    "\n",
    "\n",
    "First we need to instantiate the `ERDDAP` URL constructor for a server.\n",
    "In this example we will use [https://gliders.ioos.us/erddap](https://gliders.ioos.us/erddap/index.html)."
   ]
  },
  {
   "cell_type": "code",
   "execution_count": 5,
   "metadata": {},
   "outputs": [],
   "source": [
    "from erddapy import ERDDAP\n",
    "\n",
    "\n",
    "e = ERDDAP(server=\"https://gliders.ioos.us/erddap\")"
   ]
  },
  {
   "cell_type": "markdown",
   "metadata": {},
   "source": [
    "What are the methods/attributes available?"
   ]
  },
  {
   "cell_type": "code",
   "execution_count": 6,
   "metadata": {},
   "outputs": [
    {
     "data": {
      "text/plain": [
       "['constraints',\n",
       " 'dataset_id',\n",
       " 'get_categorize_url',\n",
       " 'get_download_url',\n",
       " 'get_info_url',\n",
       " 'get_search_url',\n",
       " 'get_var_by_attr',\n",
       " 'params',\n",
       " 'protocol',\n",
       " 'requests_kwargs',\n",
       " 'response',\n",
       " 'server',\n",
       " 'to_iris',\n",
       " 'to_pandas',\n",
       " 'to_xarray',\n",
       " 'variables']"
      ]
     },
     "execution_count": 6,
     "metadata": {},
     "output_type": "execute_result"
    }
   ],
   "source": [
    "[method for method in dir(e) if not method.startswith(\"_\")]"
   ]
  },
  {
   "cell_type": "markdown",
   "metadata": {},
   "source": [
    "All the `get_<methods>` will return a valid `ERDDAP` URL for the requested response and options.\n",
    "`erddapy` will raise an error is if URL HEADER cannot be validated."
   ]
  },
  {
   "cell_type": "code",
   "execution_count": 7,
   "metadata": {},
   "outputs": [
    {
     "name": "stdout",
     "output_type": "stream",
     "text": [
      "https://gliders.ioos.us/erddap/search/advanced.html?page=1&itemsPerPage=1000&protocol=(ANY)&cdm_data_type=(ANY)&institution=(ANY)&ioos_category=(ANY)&keywords=(ANY)&long_name=(ANY)&standard_name=(ANY)&variableName=(ANY)&minLon=(ANY)&maxLon=(ANY)&minLat=(ANY)&maxLat=(ANY)&minTime=(ANY)&maxTime=(ANY)&searchFor=all\n"
     ]
    }
   ],
   "source": [
    "print(e.get_search_url(search_for=\"all\"))"
   ]
  },
  {
   "cell_type": "markdown",
   "metadata": {},
   "source": [
    "There are many responses available, see the docs for [griddap](https://coastwatch.pfeg.noaa.gov/erddap/griddap/documentation.html) and\n",
    "[tabledap](https://coastwatch.pfeg.noaa.gov/erddap/tabledap/documentation.html) respectively.\n",
    "The most useful ones for Pythonistas are the `.csv` and `.nc` that can be read with pandas and netCDF4-python respectively.\n",
    "\n",
    "Let's load the `csv` reponse directly with `pandas`."
   ]
  },
  {
   "cell_type": "code",
   "execution_count": 8,
   "metadata": {},
   "outputs": [],
   "source": [
    "import pandas as pd\n",
    "\n",
    "\n",
    "df = pd.read_csv(e.get_search_url(response=\"csv\", search_for=\"all\"))"
   ]
  },
  {
   "cell_type": "code",
   "execution_count": 9,
   "metadata": {},
   "outputs": [
    {
     "name": "stdout",
     "output_type": "stream",
     "text": [
      "We have 544 tabledap, 0 griddap, and 0 wms endpoints.\n"
     ]
    }
   ],
   "source": [
    "print(\n",
    "    f'We have {len(set(df[\"tabledap\"].dropna()))} '\n",
    "    f'tabledap, {len(set(df[\"griddap\"].dropna()))} '\n",
    "    f'griddap, and {len(set(df[\"wms\"].dropna()))} wms endpoints.'\n",
    ")"
   ]
  },
  {
   "cell_type": "markdown",
   "metadata": {},
   "source": [
    "We can refine our search by providing some constraints."
   ]
  },
  {
   "cell_type": "code",
   "execution_count": 10,
   "metadata": {},
   "outputs": [],
   "source": [
    "def show_iframe(src):\n",
    "    \"\"\"Helper function to show HTML returns.\"\"\"\n",
    "    from IPython.display import HTML\n",
    "    iframe = f'<iframe src=\"{src}\" width=\"100%\" height=\"950\"></iframe>'\n",
    "    return HTML(iframe)"
   ]
  },
  {
   "cell_type": "markdown",
   "metadata": {},
   "source": [
    "Let's narrow the search area, time span, and look for `sea_water_temperature` only."
   ]
  },
  {
   "cell_type": "code",
   "execution_count": 11,
   "metadata": {},
   "outputs": [
    {
     "name": "stderr",
     "output_type": "stream",
     "text": [
      "/home/filipe/miniconda3/envs/ERDDAPY/lib/python3.7/site-packages/IPython/core/display.py:694: UserWarning: Consider using IPython.display.IFrame instead\n",
      "  warnings.warn(\"Consider using IPython.display.IFrame instead\")\n"
     ]
    },
    {
     "data": {
      "text/html": [
       "<iframe src=\"https://gliders.ioos.us/erddap/search/advanced.html?page=1&itemsPerPage=1000&protocol=(ANY)&cdm_data_type=trajectoryprofile&institution=(ANY)&ioos_category=(ANY)&keywords=(ANY)&long_name=(ANY)&standard_name=sea_water_temperature&variableName=(ANY)&minLon=-72.0&maxLon=-69.0&minLat=38.0&maxLat=41.0&minTime=1468108800.0&maxTime=1486684800.0\" width=\"100%\" height=\"950\"></iframe>"
      ],
      "text/plain": [
       "<IPython.core.display.HTML object>"
      ]
     },
     "execution_count": 11,
     "metadata": {},
     "output_type": "execute_result"
    }
   ],
   "source": [
    "kw = {\n",
    "    \"standard_name\": \"sea_water_temperature\",\n",
    "    \"min_lon\": -72.0,\n",
    "    \"max_lon\": -69.0,\n",
    "    \"min_lat\": 38.0,\n",
    "    \"max_lat\": 41.0,\n",
    "    \"min_time\": \"2016-07-10T00:00:00Z\",\n",
    "    \"max_time\": \"2017-02-10T00:00:00Z\",\n",
    "    \"cdm_data_type\": \"trajectoryprofile\"\n",
    "}\n",
    "\n",
    "search_url = e.get_search_url(response=\"html\", **kw)\n",
    "\n",
    "show_iframe(search_url)"
   ]
  },
  {
   "cell_type": "markdown",
   "metadata": {},
   "source": [
    "We can see that the search form above was correctly populated with the constraints we provided.\n",
    "\n",
    "Let us change the response from `.html` to `.csv`,\n",
    "so we load it as a `pandas.DataFrame`,\n",
    "and inspect what are the `Dataset ID`s available for download."
   ]
  },
  {
   "cell_type": "code",
   "execution_count": 12,
   "metadata": {},
   "outputs": [
    {
     "name": "stdout",
     "output_type": "stream",
     "text": [
      "Found 16 Glider Datasets:\n",
      "blue-20160818T1448\n",
      "cp_335-20170116T1459\n",
      "cp_336-20161011T0027\n",
      "cp_336-20170116T1254\n",
      "cp_340-20160809T0230\n",
      "cp_374-20160529T0035\n",
      "cp_374-20161011T0106\n",
      "cp_376-20160527T2050\n",
      "cp_379-20170116T1246\n",
      "cp_380-20161011T2046\n",
      "cp_387-20160404T1858\n",
      "cp_388-20160809T1409\n",
      "cp_389-20161011T2040\n",
      "silbo-20160413T1534\n",
      "sp022-20170209T1616\n",
      "whoi_406-20160902T1700\n"
     ]
    }
   ],
   "source": [
    "search_url = e.get_search_url(response=\"csv\", **kw)\n",
    "search = pd.read_csv(search_url)\n",
    "gliders = search[\"Dataset ID\"].values\n",
    "\n",
    "gliders_list = \"\\n\".join(gliders)\n",
    "print(f\"Found {len(gliders)} Glider Datasets:\\n{gliders_list}\")"
   ]
  },
  {
   "cell_type": "markdown",
   "metadata": {},
   "source": [
    "Now that we know the `Dataset ID`s we can explore their metadata with the `get_info_url` method."
   ]
  },
  {
   "cell_type": "code",
   "execution_count": 13,
   "metadata": {},
   "outputs": [
    {
     "data": {
      "text/html": [
       "<iframe src=\"https://gliders.ioos.us/erddap/info/blue-20160818T1448/index.html\" width=\"100%\" height=\"950\"></iframe>"
      ],
      "text/plain": [
       "<IPython.core.display.HTML object>"
      ]
     },
     "execution_count": 13,
     "metadata": {},
     "output_type": "execute_result"
    }
   ],
   "source": [
    "info_url = e.get_info_url(dataset_id=gliders[0], response=\"html\")\n",
    "\n",
    "show_iframe(src=info_url)"
   ]
  },
  {
   "cell_type": "markdown",
   "metadata": {},
   "source": [
    "Again, with the `csv` response, we can manipulate the metadata and find the variables that have the `cdm_profile_variables` attribute."
   ]
  },
  {
   "cell_type": "code",
   "execution_count": 14,
   "metadata": {},
   "outputs": [
    {
     "data": {
      "text/html": [
       "<div>\n",
       "<style scoped>\n",
       "    .dataframe tbody tr th:only-of-type {\n",
       "        vertical-align: middle;\n",
       "    }\n",
       "\n",
       "    .dataframe tbody tr th {\n",
       "        vertical-align: top;\n",
       "    }\n",
       "\n",
       "    .dataframe thead th {\n",
       "        text-align: right;\n",
       "    }\n",
       "</style>\n",
       "<table border=\"1\" class=\"dataframe\">\n",
       "  <thead>\n",
       "    <tr style=\"text-align: right;\">\n",
       "      <th></th>\n",
       "      <th>Row Type</th>\n",
       "      <th>Variable Name</th>\n",
       "      <th>Attribute Name</th>\n",
       "      <th>Data Type</th>\n",
       "      <th>Value</th>\n",
       "    </tr>\n",
       "  </thead>\n",
       "  <tbody>\n",
       "    <tr>\n",
       "      <th>0</th>\n",
       "      <td>attribute</td>\n",
       "      <td>NC_GLOBAL</td>\n",
       "      <td>acknowledgement</td>\n",
       "      <td>String</td>\n",
       "      <td>This deployment supported by NOAA U.S. IOOS</td>\n",
       "    </tr>\n",
       "    <tr>\n",
       "      <th>1</th>\n",
       "      <td>attribute</td>\n",
       "      <td>NC_GLOBAL</td>\n",
       "      <td>cdm_data_type</td>\n",
       "      <td>String</td>\n",
       "      <td>TrajectoryProfile</td>\n",
       "    </tr>\n",
       "    <tr>\n",
       "      <th>2</th>\n",
       "      <td>attribute</td>\n",
       "      <td>NC_GLOBAL</td>\n",
       "      <td>cdm_profile_variables</td>\n",
       "      <td>String</td>\n",
       "      <td>time_uv,lat_uv,lon_uv,u,v,profile_id,time,lati...</td>\n",
       "    </tr>\n",
       "    <tr>\n",
       "      <th>3</th>\n",
       "      <td>attribute</td>\n",
       "      <td>NC_GLOBAL</td>\n",
       "      <td>cdm_trajectory_variables</td>\n",
       "      <td>String</td>\n",
       "      <td>trajectory,wmo_id</td>\n",
       "    </tr>\n",
       "    <tr>\n",
       "      <th>4</th>\n",
       "      <td>attribute</td>\n",
       "      <td>NC_GLOBAL</td>\n",
       "      <td>comment</td>\n",
       "      <td>String</td>\n",
       "      <td>Glider deployed by the University of Massachus...</td>\n",
       "    </tr>\n",
       "  </tbody>\n",
       "</table>\n",
       "</div>"
      ],
      "text/plain": [
       "    Row Type Variable Name            Attribute Name Data Type  \\\n",
       "0  attribute     NC_GLOBAL           acknowledgement    String   \n",
       "1  attribute     NC_GLOBAL             cdm_data_type    String   \n",
       "2  attribute     NC_GLOBAL     cdm_profile_variables    String   \n",
       "3  attribute     NC_GLOBAL  cdm_trajectory_variables    String   \n",
       "4  attribute     NC_GLOBAL                   comment    String   \n",
       "\n",
       "                                               Value  \n",
       "0        This deployment supported by NOAA U.S. IOOS  \n",
       "1                                  TrajectoryProfile  \n",
       "2  time_uv,lat_uv,lon_uv,u,v,profile_id,time,lati...  \n",
       "3                                  trajectory,wmo_id  \n",
       "4  Glider deployed by the University of Massachus...  "
      ]
     },
     "execution_count": 14,
     "metadata": {},
     "output_type": "execute_result"
    }
   ],
   "source": [
    "info_url = e.get_info_url(dataset_id=gliders[0], response='csv')\n",
    "\n",
    "info = pd.read_csv(info_url)\n",
    "\n",
    "info.head()"
   ]
  },
  {
   "cell_type": "code",
   "execution_count": 15,
   "metadata": {},
   "outputs": [
    {
     "data": {
      "text/plain": [
       "'time_uv,lat_uv,lon_uv,u,v,profile_id,time,latitude,longitude'"
      ]
     },
     "execution_count": 15,
     "metadata": {},
     "output_type": "execute_result"
    }
   ],
   "source": [
    "\"\".join(info.loc[info[\"Attribute Name\"] == \"cdm_profile_variables\", \"Value\"])"
   ]
  },
  {
   "cell_type": "markdown",
   "metadata": {},
   "source": [
    "Selecting variables by theirs attributes is such a common operation that `erddapy` brings its own method to simplify this task.\n",
    "\n",
    "The `get_var_by_attr` method is inspired by `netCDF4-python`'s `get_variables_by_attributes` however, because `erddapy` is operating on remote serves, it will return the variable names instead of the actual variables.\n",
    "\n",
    "Here we check what is/are the variable(s) associated with the `standard_name` used in the search.\n",
    "\n",
    "Note that `get_var_by_attr` caches the last response in case the user needs to make multiple requests,\n",
    "but it will loose its state when a new request is made.\n",
    "\n",
    "(See the execution times below.)"
   ]
  },
  {
   "cell_type": "code",
   "execution_count": 16,
   "metadata": {},
   "outputs": [
    {
     "name": "stdout",
     "output_type": "stream",
     "text": [
      "CPU times: user 193 ms, sys: 2.81 ms, total: 195 ms\n",
      "Wall time: 1.73 s\n"
     ]
    },
    {
     "data": {
      "text/plain": [
       "['temperature']"
      ]
     },
     "execution_count": 16,
     "metadata": {},
     "output_type": "execute_result"
    }
   ],
   "source": [
    "%%time\n",
    "\n",
    "# First one, slow.\n",
    "e.get_var_by_attr(\n",
    "    dataset_id=\"whoi_406-20160902T1700\",\n",
    "    standard_name=\"sea_water_temperature\"\n",
    ")"
   ]
  },
  {
   "cell_type": "code",
   "execution_count": 17,
   "metadata": {},
   "outputs": [
    {
     "name": "stdout",
     "output_type": "stream",
     "text": [
      "CPU times: user 55 µs, sys: 15 µs, total: 70 µs\n",
      "Wall time: 73.9 µs\n"
     ]
    },
    {
     "data": {
      "text/plain": [
       "['salinity']"
      ]
     },
     "execution_count": 17,
     "metadata": {},
     "output_type": "execute_result"
    }
   ],
   "source": [
    "%%time\n",
    "\n",
    "# Second one on the same glider, a little bit faster.\n",
    "e.get_var_by_attr(\n",
    "    dataset_id=\"whoi_406-20160902T1700\",\n",
    "    standard_name=\"sea_water_practical_salinity\"\n",
    ")"
   ]
  },
  {
   "cell_type": "code",
   "execution_count": 18,
   "metadata": {},
   "outputs": [
    {
     "name": "stdout",
     "output_type": "stream",
     "text": [
      "CPU times: user 123 ms, sys: 1.71 ms, total: 124 ms\n",
      "Wall time: 1.93 s\n"
     ]
    },
    {
     "data": {
      "text/plain": [
       "['salinity']"
      ]
     },
     "execution_count": 18,
     "metadata": {},
     "output_type": "execute_result"
    }
   ],
   "source": [
    "%%time\n",
    "\n",
    "# New one, slow again.\n",
    "e.get_var_by_attr(\n",
    "    dataset_id=\"cp_336-20170116T1254\",\n",
    "    standard_name=\"sea_water_practical_salinity\"\n",
    ")"
   ]
  },
  {
   "cell_type": "markdown",
   "metadata": {},
   "source": [
    "Another way to browse datasets is via the `categorize` URL. In the example below we can get all the `standard_names` available in the dataset with a single request."
   ]
  },
  {
   "cell_type": "code",
   "execution_count": 19,
   "metadata": {},
   "outputs": [
    {
     "data": {
      "text/plain": [
       "0                                                 _null\n",
       "1     concentration_of_colored_dissolved_organic_mat...\n",
       "2                              conductivity_status_flag\n",
       "3                                   density_status_flag\n",
       "4                                                 depth\n",
       "5                                     depth_status_flag\n",
       "6     downwelling_photosynthetic_photon_spherical_ir...\n",
       "7                           eastward_sea_water_velocity\n",
       "8               eastward_sea_water_velocity_status_flag\n",
       "9          fractional_saturation_of_oxygen_in_sea_water\n",
       "10    fractional_saturation_of_oxygen_in_sea_water_s...\n",
       "11                                             latitude\n",
       "12                                 latitude_status_flag\n",
       "13                                            longitude\n",
       "14                                longitude_status_flag\n",
       "15     mass_concentration_of_chlorophyll_a_in_sea_water\n",
       "16       mass_concentration_of_chlorophyll_in_sea_water\n",
       "17    mass_concentration_of_chlorophyll_in_sea_water...\n",
       "18    mole_concentration_of_dissolved_molecular_oxyg...\n",
       "19    mole_concentration_of_dissolved_molecular_oxyg...\n",
       "20           moles_of_oxygen_per_unit_mass_in_sea_water\n",
       "21    moles_of_oxygen_per_unit_mass_in_sea_water_sta...\n",
       "22                             north_sea_water_velocity\n",
       "23                         northward_sea_water_velocity\n",
       "24             northward_sea_water_velocity_status_flag\n",
       "25                                             pressure\n",
       "26                                 pressure_status_flag\n",
       "27                                 radiation_wavelength\n",
       "28                                 salinity_status_flag\n",
       "29                                    sea_water_density\n",
       "30                        sea_water_density_status_flag\n",
       "31                    sea_water_electrical_conductivity\n",
       "32        sea_water_electrical_conductivity_status_flag\n",
       "33        sea_water_electrival_conductivity_status_flag\n",
       "34                          sea_water_potential_density\n",
       "35                      sea_water_potential_temperature\n",
       "36                         sea_water_practical_salinity\n",
       "37             sea_water_practical_salinity_status_flag\n",
       "38                                   sea_water_pressure\n",
       "39                       sea_water_pressure_status_flag\n",
       "40                                   sea_water_salinity\n",
       "41                       sea_water_salinity_status_flag\n",
       "42                                    sea_water_sigma_t\n",
       "43                                sea_water_temperature\n",
       "44                    sea_water_temperature_status_flag\n",
       "45                      sea_water_turbidity_status_flag\n",
       "46                          speed_of_sound_in_sea_water\n",
       "47                              temperature_status_flag\n",
       "48                             temperuature_status_flag\n",
       "49                                                 time\n",
       "50                                     time_status_flag\n",
       "51    volume_absorption_coefficient_of_radiative_flu...\n",
       "52    volume_absorption_coefficient_of_radiative_flu...\n",
       "53    volume_backwards_scattering_coefficient_of_rad...\n",
       "54    volume_scattering_coefficient_of_radiative_flu...\n",
       "Name: Category, dtype: object"
      ]
     },
     "execution_count": 19,
     "metadata": {},
     "output_type": "execute_result"
    }
   ],
   "source": [
    "url = e.get_categorize_url(\n",
    "    categorize_by=\"standard_name\",\n",
    "    response=\"csv\"\n",
    ")\n",
    "\n",
    "pd.read_csv(url)[\"Category\"]"
   ]
  },
  {
   "cell_type": "markdown",
   "metadata": {},
   "source": [
    "We can also pass a `value` to filter the categorize results."
   ]
  },
  {
   "cell_type": "code",
   "execution_count": 20,
   "metadata": {},
   "outputs": [],
   "source": [
    "url = e.get_categorize_url(\n",
    "    categorize_by=\"institution\",\n",
    "    value=\"woods_hole_oceanographic_institution\",\n",
    "    response=\"csv\"\n",
    ")\n",
    "\n",
    "df = pd.read_csv(url)"
   ]
  },
  {
   "cell_type": "code",
   "execution_count": 21,
   "metadata": {},
   "outputs": [
    {
     "data": {
      "text/plain": [
       "['sp007-20170427T1652',\n",
       " 'sp010-20150409T1524',\n",
       " 'sp010-20170707T1647',\n",
       " 'sp010-20180620T1455',\n",
       " 'sp022-20170209T1616',\n",
       " 'sp022-20170802T1414',\n",
       " 'sp022-20180124T1514',\n",
       " 'sp022-20180422T1229',\n",
       " 'sp022-20180912T1553',\n",
       " 'sp055-20150716T1359',\n",
       " 'sp062-20171116T1557',\n",
       " 'sp062-20190201T1350',\n",
       " 'sp065-20151001T1507',\n",
       " 'sp065-20180310T1828',\n",
       " 'sp065-20181015T1349',\n",
       " 'sp065-20190517T1530',\n",
       " 'sp066-20151217T1624',\n",
       " 'sp066-20160818T1505',\n",
       " 'sp066-20170416T1744',\n",
       " 'sp066-20171129T1616',\n",
       " 'sp066-20180629T1411',\n",
       " 'sp066-20190301T1640',\n",
       " 'sp066-20190724T1532',\n",
       " 'sp069-20170907T1531',\n",
       " 'sp069-20180411T1516',\n",
       " 'sp069-20181109T1607',\n",
       " 'whoi_406-20160902T1700']"
      ]
     },
     "execution_count": 21,
     "metadata": {},
     "output_type": "execute_result"
    }
   ],
   "source": [
    "whoi_gliders = df.loc[~df[\"tabledap\"].isnull(), \"Dataset ID\"].tolist()\n",
    "\n",
    "whoi_gliders"
   ]
  },
  {
   "cell_type": "markdown",
   "metadata": {},
   "source": [
    "Now it is easy to filter non WHOI gliders from our original glider search."
   ]
  },
  {
   "cell_type": "code",
   "execution_count": 22,
   "metadata": {},
   "outputs": [
    {
     "data": {
      "text/plain": [
       "['sp022-20170209T1616', 'whoi_406-20160902T1700']"
      ]
     },
     "execution_count": 22,
     "metadata": {},
     "output_type": "execute_result"
    }
   ],
   "source": [
    "gliders = [glider for glider in gliders if glider in whoi_gliders]\n",
    "gliders"
   ]
  },
  {
   "cell_type": "markdown",
   "metadata": {},
   "source": [
    "With Python it is easy to loop over all the `dataset_id`s for the variables with `standard_names`"
   ]
  },
  {
   "cell_type": "code",
   "execution_count": 23,
   "metadata": {},
   "outputs": [],
   "source": [
    "variables = [\n",
    "    e.get_var_by_attr(\n",
    "        dataset_id=glider,\n",
    "        standard_name=lambda v: v is not None\n",
    "    )\n",
    "    for glider in gliders\n",
    "]"
   ]
  },
  {
   "cell_type": "markdown",
   "metadata": {},
   "source": [
    "We can construct a `set` with the common variables in those `dataset_id`s."
   ]
  },
  {
   "cell_type": "code",
   "execution_count": 24,
   "metadata": {},
   "outputs": [
    {
     "data": {
      "text/plain": [
       "{'conductivity',\n",
       " 'conductivity_qc',\n",
       " 'density',\n",
       " 'density_qc',\n",
       " 'depth',\n",
       " 'depth_qc',\n",
       " 'lat_uv',\n",
       " 'lat_uv_qc',\n",
       " 'latitude',\n",
       " 'latitude_qc',\n",
       " 'lon_uv',\n",
       " 'lon_uv_qc',\n",
       " 'longitude',\n",
       " 'longitude_qc',\n",
       " 'precise_lat',\n",
       " 'precise_lon',\n",
       " 'precise_time',\n",
       " 'precise_time_qc',\n",
       " 'pressure',\n",
       " 'pressure_qc',\n",
       " 'salinity',\n",
       " 'salinity_qc',\n",
       " 'temperature',\n",
       " 'temperature_qc',\n",
       " 'time',\n",
       " 'time_qc',\n",
       " 'time_uv',\n",
       " 'time_uv_qc',\n",
       " 'u',\n",
       " 'u_qc',\n",
       " 'v',\n",
       " 'v_qc'}"
      ]
     },
     "execution_count": 24,
     "metadata": {},
     "output_type": "execute_result"
    }
   ],
   "source": [
    "common_variables = set(variables[0]).intersection(*variables[1:])\n",
    "\n",
    "common_variables"
   ]
  },
  {
   "cell_type": "markdown",
   "metadata": {},
   "source": [
    "Last, but not least, the download endpoint!\n",
    "\n",
    "It is important to note that the download constraints are based on the variables names and not the standardized ones for the `get_search_url` method."
   ]
  },
  {
   "cell_type": "code",
   "execution_count": 25,
   "metadata": {},
   "outputs": [
    {
     "name": "stdout",
     "output_type": "stream",
     "text": [
      "https://gliders.ioos.us/erddap/tabledap/sp022-20170209T1616.html?depth_qc,precise_lat,density_qc,time_uv,precise_time,u,longitude_qc,precise_lon,salinity_qc,v_qc,lon_uv,salinity,time_uv_qc,u_qc,temperature,latitude,longitude,v,density,temperature_qc,conductivity,lat_uv,precise_time_qc,pressure_qc,depth,pressure,time_qc,conductivity_qc,lat_uv_qc,latitude_qc,time,lon_uv_qc&longitude>=-72.0&longitude<=-69.0&latitude>=38.0&latitude<=41.0&time>=1468108800.0&time<=1486684800.0\n"
     ]
    }
   ],
   "source": [
    "constraints = {\n",
    "    \"longitude>=\": kw[\"min_lon\"],\n",
    "    \"longitude<=\": kw[\"max_lon\"],\n",
    "    \"latitude>=\": kw[\"min_lat\"],\n",
    "    \"latitude<=\": kw[\"max_lat\"],\n",
    "    \"time>=\": kw[\"min_time\"],\n",
    "    \"time<=\": kw[\"max_time\"],\n",
    "}\n",
    "\n",
    "\n",
    "\n",
    "download_url = e.get_download_url(\n",
    "    dataset_id=gliders[0],\n",
    "    protocol=\"tabledap\",\n",
    "    variables=common_variables,\n",
    "    constraints=constraints\n",
    ")\n",
    "\n",
    "print(download_url)"
   ]
  },
  {
   "cell_type": "markdown",
   "metadata": {},
   "source": [
    "Putting everything in `DataFrame` objects."
   ]
  },
  {
   "cell_type": "code",
   "execution_count": 26,
   "metadata": {},
   "outputs": [
    {
     "name": "stdout",
     "output_type": "stream",
     "text": [
      "Failed to download sp022-20170209T1616.\n"
     ]
    }
   ],
   "source": [
    "from requests.exceptions import HTTPError\n",
    "\n",
    "\n",
    "def download_csv(url):\n",
    "    return pd.read_csv(\n",
    "        url,\n",
    "        index_col=\"time\",\n",
    "        parse_dates=True,\n",
    "        skiprows=[1],\n",
    "    )\n",
    "\n",
    "\n",
    "dfs = {}\n",
    "for glider in gliders:\n",
    "    try:\n",
    "        download_url = e.get_download_url(\n",
    "            dataset_id=glider,\n",
    "            protocol=\"tabledap\",\n",
    "            variables=common_variables,\n",
    "            response=\"csv\",\n",
    "            constraints=constraints\n",
    "        )\n",
    "    except HTTPError:\n",
    "        print(f\"Failed to download {glider}.\")\n",
    "        continue\n",
    "    dfs.update({glider: download_csv(download_url)})"
   ]
  },
  {
   "cell_type": "markdown",
   "metadata": {},
   "source": [
    "The glider datasets should be masked automatically but we found that is not true.\n",
    "The cell below applies the mask as described by the data QC flag.\n",
    "\n",
    "Finally let's see some figures!"
   ]
  },
  {
   "cell_type": "code",
   "execution_count": 27,
   "metadata": {},
   "outputs": [
    {
     "data": {
      "image/png": "[encoded data removed]",
      "text/plain": [
       "<Figure size 648x648 with 1 Axes>"
      ]
     },
     "metadata": {
      "needs_background": "light"
     },
     "output_type": "display_data"
    }
   ],
   "source": [
    "%matplotlib inline\n",
    "import matplotlib.pyplot as plt\n",
    "import cartopy.crs as ccrs\n",
    "from cartopy.mpl.ticker import LongitudeFormatter, LatitudeFormatter\n",
    "\n",
    "\n",
    "def make_map(extent):\n",
    "    fig, ax = plt.subplots(\n",
    "        figsize=(9, 9),\n",
    "        subplot_kw=dict(projection=ccrs.PlateCarree())\n",
    "    )\n",
    "    ax.coastlines(resolution=\"10m\")\n",
    "    ax.set_extent(extent)\n",
    "\n",
    "    ax.set_xticks([extent[0], extent[1]], crs=ccrs.PlateCarree())\n",
    "    ax.set_yticks([extent[2], extent[3]], crs=ccrs.PlateCarree())\n",
    "    lon_formatter = LongitudeFormatter(zero_direction_label=True)\n",
    "    lat_formatter = LatitudeFormatter()\n",
    "    ax.xaxis.set_major_formatter(lon_formatter)\n",
    "    ax.yaxis.set_major_formatter(lat_formatter)\n",
    "\n",
    "    return fig, ax\n",
    "\n",
    "\n",
    "dx = dy = 0.5\n",
    "extent = kw[\"min_lon\"]-dx, kw[\"max_lon\"]+dx, kw[\"min_lat\"]+dy, kw[\"max_lat\"]+dy\n",
    "\n",
    "fig, ax = make_map(extent)\n",
    "for glider, df in dfs.items():\n",
    "    ax.plot(df[\"longitude\"], df[\"latitude\"], label=glider)\n",
    "\n",
    "leg = ax.legend()"
   ]
  },
  {
   "cell_type": "code",
   "execution_count": 28,
   "metadata": {},
   "outputs": [
    {
     "data": {
      "image/png": "[encoded data removed]",
      "text/plain": [
       "<Figure size 648x648 with 1 Axes>"
      ]
     },
     "metadata": {
      "needs_background": "light"
     },
     "output_type": "display_data"
    }
   ],
   "source": [
    "def glider_scatter(df, ax, glider):\n",
    "    ax.scatter(df[\"temperature\"], df[\"salinity\"],\n",
    "               s=10, alpha=0.5, label=glider)\n",
    "\n",
    "fig, ax = plt.subplots(figsize=(9, 9))\n",
    "ax.set_ylabel(\"salinity\")\n",
    "ax.set_xlabel(\"temperature\")\n",
    "ax.grid(True)\n",
    "\n",
    "for glider, df in dfs.items():\n",
    "    glider_scatter(df, ax, glider)\n",
    "\n",
    "leg = ax.legend()"
   ]
  },
  {
   "cell_type": "markdown",
   "metadata": {},
   "source": [
    "## Extras\n",
    "\n",
    "### OPeNDAP response"
   ]
  },
  {
   "cell_type": "code",
   "execution_count": 29,
   "metadata": {},
   "outputs": [
    {
     "name": "stdout",
     "output_type": "stream",
     "text": [
      "https://gliders.ioos.us/erddap/tabledap/whoi_406-20160902T1700\n"
     ]
    }
   ],
   "source": [
    "e.constraints = None\n",
    "e.protocol = \"tabledap\"\n",
    "\n",
    "opendap_url = e.get_download_url(\n",
    "    dataset_id=\"whoi_406-20160902T1700\",\n",
    "    response=\"opendap\",\n",
    ")\n",
    "\n",
    "print(opendap_url)"
   ]
  },
  {
   "cell_type": "code",
   "execution_count": 30,
   "metadata": {},
   "outputs": [
    {
     "name": "stdout",
     "output_type": "stream",
     "text": [
      "Slocum glider dataset gathered as part of the TEMPESTS (The Experiment to Measure and Predict East coast STorm Strength), funded by NOAA through CINAR (Cooperative Institute for the North Atlantic Region).\n"
     ]
    }
   ],
   "source": [
    "from netCDF4 import Dataset\n",
    "\n",
    "\n",
    "with Dataset(opendap_url) as nc:\n",
    "    print(nc.summary)"
   ]
  },
  {
   "cell_type": "markdown",
   "metadata": {},
   "source": [
    "### netCDF \"file-like\" to xarray\n",
    "\n",
    "`open_dataset` will download a temporary file,\n",
    "so be careful with the constraints to avoid downloading several gigabytes!"
   ]
  },
  {
   "cell_type": "code",
   "execution_count": 31,
   "metadata": {
    "scrolled": false
   },
   "outputs": [],
   "source": [
    "e.dataset_id = \"cp_336-20170116T1254\"\n",
    "e.response = \"nc\"\n",
    "e.variables = common_variables\n",
    "e.constraints = constraints\n",
    "\n",
    "download_url = e.get_download_url()"
   ]
  },
  {
   "cell_type": "code",
   "execution_count": 32,
   "metadata": {},
   "outputs": [
    {
     "data": {
      "text/plain": [
       "'600.05 KB'"
      ]
     },
     "execution_count": 32,
     "metadata": {},
     "output_type": "execute_result"
    }
   ],
   "source": [
    "import requests\n",
    "\n",
    "\n",
    "def humansize(nbytes):\n",
    "    suffixes = [\"B\", \"KB\", \"MB\", \"GB\", \"TB\", \"PB\"]\n",
    "    k = 0\n",
    "    while nbytes >= 1024 and k < len(suffixes)-1:\n",
    "        nbytes /= 1024.\n",
    "        k += 1\n",
    "    f = (\"%.2f\" % nbytes).rstrip(\"0\").rstrip(\".\")\n",
    "    return \"%s %s\" % (f, suffixes[k])\n",
    "\n",
    "r = requests.head(download_url)\n",
    "nbytes = float(r.headers[\"Content-Length\"])\n",
    "humansize(nbytes)"
   ]
  },
  {
   "cell_type": "markdown",
   "metadata": {},
   "source": [
    "That is the uncompressed size, we are OK because the download will be less than that, `ERDDAP` streams gzip'ed data."
   ]
  },
  {
   "cell_type": "code",
   "execution_count": 33,
   "metadata": {},
   "outputs": [
    {
     "data": {
      "text/plain": [
       "'gzip'"
      ]
     },
     "execution_count": 33,
     "metadata": {},
     "output_type": "execute_result"
    }
   ],
   "source": [
    "r.headers[\"Content-Encoding\"]"
   ]
  },
  {
   "cell_type": "code",
   "execution_count": 34,
   "metadata": {
    "scrolled": true
   },
   "outputs": [
    {
     "data": {
      "text/plain": [
       "<xarray.Dataset>\n",
       "Dimensions:          (row: 16232)\n",
       "Coordinates:\n",
       "    time_uv          (row) float64 ...\n",
       "    lon_uv           (row) float64 ...\n",
       "    lat_uv           (row) float64 ...\n",
       "Dimensions without coordinates: row\n",
       "Data variables:\n",
       "    depth_qc         (row) float32 ...\n",
       "    precise_lat      (row) float64 ...\n",
       "    density_qc       (row) float32 ...\n",
       "    precise_time     (row) float64 ...\n",
       "    u                (row) float64 ...\n",
       "    longitude_qc     (row) float32 ...\n",
       "    precise_lon      (row) float64 ...\n",
       "    salinity_qc      (row) float32 ...\n",
       "    v_qc             (row) float32 ...\n",
       "    salinity         (row) float32 ...\n",
       "    time_uv_qc       (row) float32 ...\n",
       "    u_qc             (row) float32 ...\n",
       "    temperature      (row) float32 ...\n",
       "    latitude         (row) float64 ...\n",
       "    longitude        (row) float64 ...\n",
       "    v                (row) float64 ...\n",
       "    density          (row) float32 ...\n",
       "    temperature_qc   (row) float32 ...\n",
       "    conductivity     (row) float32 ...\n",
       "    precise_time_qc  (row) float32 ...\n",
       "    pressure_qc      (row) float32 ...\n",
       "    depth            (row) float32 ...\n",
       "    pressure         (row) float32 ...\n",
       "    time_qc          (row) float32 ...\n",
       "    conductivity_qc  (row) float32 ...\n",
       "    lat_uv_qc        (row) float32 ...\n",
       "    latitude_qc      (row) float32 ...\n",
       "    time             (row) float64 ...\n",
       "    lon_uv_qc        (row) float32 ...\n",
       "Attributes:\n",
       "    acknowledgement:               Funding provided by the National Science F...\n",
       "    cdm_data_type:                 TrajectoryProfile\n",
       "    cdm_profile_variables:         time_uv,lat_uv,lon_uv,u,v,profile_id,time,...\n",
       "    cdm_trajectory_variables:      trajectory,wmo_id\n",
       "    contributor_name:              Paul Matthias,Peter Brickley,Sheri White,D...\n",
       "    contributor_role:              CGSN Program Manager,CGSN Operations Engin...\n",
       "    Conventions:                   Unidata Dataset Discovery v1.0, COARDS, CF...\n",
       "    creator_email:                 kerfoot@marine.rutgers.edu\n",
       "    creator_name:                  John Kerfoot\n",
       "    creator_url:                   http://rucool.marine.rutgers.edu\n",
       "    date_created:                  2017-04-19T14:33:41Z\n",
       "    date_issued:                   2017-04-19T14:33:41Z\n",
       "    date_modified:                 2017-04-19T14:33:41Z\n",
       "    deployment_number:             4\n",
       "    Easternmost_Easting:           -69.98303682074565\n",
       "    featureType:                   TrajectoryProfile\n",
       "    format_version:                https://github.com/ioos/ioosngdac/tree/mas...\n",
       "    geospatial_lat_max:            39.91726417227544\n",
       "    geospatial_lat_min:            39.32370673037986\n",
       "    geospatial_lat_units:          degrees_north\n",
       "    geospatial_lon_max:            -69.98303682074565\n",
       "    geospatial_lon_min:            -71.18259602604894\n",
       "    geospatial_lon_units:          degrees_east\n",
       "    geospatial_vertical_max:       976.756\n",
       "    geospatial_vertical_min:       -0.03969577\n",
       "    geospatial_vertical_positive:  down\n",
       "    geospatial_vertical_units:     m\n",
       "    history:                       2017-04-19T14:33:35Z: Data Source /Users/k...\n",
       "    id:                            cp_336-20170116T125400Z\n",
       "    infoUrl:                       http://data.ioos.us/gliders/erddap/\n",
       "    institution:                   Ocean Observatories Initiative\n",
       "    ioos_dac_checksum:             f42b729c0bf19af1b7229b21350ebaaf\n",
       "    ioos_dac_completed:            False\n",
       "    keywords:                      AUVS > Autonomous Underwater Vehicles, Oce...\n",
       "    keywords_vocabulary:           GCMD Science Keywords\n",
       "    license:                       All OOI data including data from OOI core ...\n",
       "    Metadata_Conventions:          Unidata Dataset Discovery v1.0, COARDS, CF...\n",
       "    metadata_link:                 http://ooi.visualocean.net/sites/view/CP05...\n",
       "    naming_authority:              org.oceanobservatories\n",
       "    Northernmost_Northing:         39.91726417227544\n",
       "    platform_type:                 Slocum Glider\n",
       "    processing_level:              Contains any/all of the following: L0 Data...\n",
       "    project:                       Ocean Observatories Initiative\n",
       "    publisher_email:               kerfoot@marine.rutgers.edu\n",
       "    publisher_name:                John Kerfoot\n",
       "    publisher_url:                 http://rucool.marine.rutgers.edu\n",
       "    references:                    http://oceanobservatories.org/\n",
       "    sea_name:                      Mid-Atlantic Bight\n",
       "    source:                        Observational data from a profiling glider\n",
       "    sourceUrl:                     (local files)\n",
       "    Southernmost_Northing:         39.32370673037986\n",
       "    standard_name_vocabulary:      CF Standard Name Table v27\n",
       "    subsetVariables:               trajectory,wmo_id,time_uv,lat_uv,lon_uv,u,...\n",
       "    summary:                       The Pioneer Array is located off the coast...\n",
       "    time_coverage_end:             2017-02-09T23:03:25Z\n",
       "    time_coverage_start:           2017-01-16T13:03:04Z\n",
       "    title:                         cp_336-20170116T1254\n",
       "    Westernmost_Easting:           -71.18259602604894"
      ]
     },
     "execution_count": 34,
     "metadata": {},
     "output_type": "execute_result"
    }
   ],
   "source": [
    "ds = e.to_xarray(decode_times=False)\n",
    "\n",
    "ds"
   ]
  },
  {
   "cell_type": "code",
   "execution_count": 35,
   "metadata": {
    "scrolled": true
   },
   "outputs": [
    {
     "data": {
      "text/plain": [
       "<xarray.DataArray 'temperature' (row: 16232)>\n",
       "array([14.3976, 14.4236, 14.4596, ...,  4.4004,  4.3975,  4.3978],\n",
       "      dtype=float32)\n",
       "Coordinates:\n",
       "    time_uv  (row) float64 ...\n",
       "    lon_uv   (row) float64 ...\n",
       "    lat_uv   (row) float64 ...\n",
       "Dimensions without coordinates: row\n",
       "Attributes:\n",
       "    _ChunkSizes:          1\n",
       "    actual_range:         [ 0.     17.2652]\n",
       "    ancillary_variables:  temperature_qc\n",
       "    colorBarMaximum:      32.0\n",
       "    colorBarMinimum:      0.0\n",
       "    coordinates:          time lat lon depth\n",
       "    instrument:           instrument_ctd\n",
       "    ioos_category:        Temperature\n",
       "    long_name:            Sea Water Temperature\n",
       "    observation_type:     measured\n",
       "    platform:             platform\n",
       "    source_variable:      sci_water_temp\n",
       "    standard_name:        sea_water_temperature\n",
       "    units:                degree_Celsius\n",
       "    valid_max:            40.0\n",
       "    valid_min:            -5.0"
      ]
     },
     "execution_count": 35,
     "metadata": {},
     "output_type": "execute_result"
    }
   ],
   "source": [
    "ds[\"temperature\"]"
   ]
  },
  {
   "cell_type": "code",
   "execution_count": 36,
   "metadata": {},
   "outputs": [],
   "source": [
    "import numpy as np\n",
    "\n",
    "\n",
    "data = ds[\"temperature\"].values\n",
    "depth = ds[\"depth\"].values\n",
    "\n",
    "mask = ~np.ma.masked_invalid(data).mask"
   ]
  },
  {
   "cell_type": "code",
   "execution_count": 37,
   "metadata": {},
   "outputs": [],
   "source": [
    "data = data[mask]\n",
    "depth = depth[mask]\n",
    "lon = ds[\"longitude\"].values[mask]\n",
    "lat = ds[\"latitude\"].values[mask]"
   ]
  },
  {
   "cell_type": "code",
   "execution_count": 38,
   "metadata": {},
   "outputs": [],
   "source": [
    "import warnings\n",
    "\n",
    "\n",
    "with warnings.catch_warnings():\n",
    "    warnings.simplefilter(\"ignore\")\n",
    "    mask = depth <= 5\n",
    "\n",
    "data = data[mask]\n",
    "depth = depth[mask]\n",
    "lon = lon[mask]\n",
    "lat = lat[mask]"
   ]
  },
  {
   "cell_type": "code",
   "execution_count": 39,
   "metadata": {},
   "outputs": [
    {
     "data": {
      "image/png": "[encoded data removed]",
      "text/plain": [
       "<Figure size 648x648 with 2 Axes>"
      ]
     },
     "metadata": {
      "needs_background": "light"
     },
     "output_type": "display_data"
    }
   ],
   "source": [
    "%matplotlib inline\n",
    "import matplotlib.pyplot as plt\n",
    "import cartopy.crs as ccrs\n",
    "\n",
    "\n",
    "dx = dy = 1.5\n",
    "extent = (\n",
    "    ds.geospatial_lon_min-dx, ds.geospatial_lon_max+dx,\n",
    "    ds.geospatial_lat_min-dy, ds.geospatial_lat_max+dy\n",
    ")\n",
    "fig, ax = make_map(extent)\n",
    "\n",
    "cs = ax.scatter(lon, lat, c=data, s=50, alpha=0.5, edgecolor=\"none\")\n",
    "cbar = fig.colorbar(cs, orientation=\"vertical\",\n",
    "                    fraction=0.1, shrink=0.9, extend=\"both\")\n",
    "ax.coastlines(\"10m\");"
   ]
  },
  {
   "cell_type": "markdown",
   "metadata": {},
   "source": [
    "Or iris if the data is easier to navigate via the CF conventions data model."
   ]
  },
  {
   "cell_type": "code",
   "execution_count": 40,
   "metadata": {
    "scrolled": true
   },
   "outputs": [
    {
     "name": "stdout",
     "output_type": "stream",
     "text": [
      "0: longitude / (degrees)               (-- : 16232)\n",
      "1: northward_sea_water_velocity / (m s-1) (-- : 16232)\n",
      "2: latitude / (degrees)                (-- : 16232)\n",
      "3: sea_water_practical_salinity / (unknown) (-- : 16232)\n",
      "4: sea_water_density / (kg/m^3)        (-- : 16232)\n",
      "5: time / (seconds since 1970-01-01T00:00:00Z) (-- : 16232)\n",
      "6: eastward_sea_water_velocity / (m s-1) (-- : 16232)\n",
      "7: sea_water_electrical_conductivity / (S m-1) (-- : 16232)\n",
      "8: longitude Variable Quality Flag / (1) (-- : 16232)\n",
      "9: precise_time Variable Quality Flag / (1) (-- : 16232)\n",
      "10: latitude Variable Quality Flag / (1) (-- : 16232)\n",
      "11: longitude / (degrees)               (-- : 16232)\n",
      "12: sea_water_temperature / (degree_Celsius) (-- : 16232)\n",
      "13: latitude / (degrees)                (-- : 16232)\n",
      "14: sea_water_pressure / (dbar)         (-- : 16232)\n"
     ]
    }
   ],
   "source": [
    "import warnings\n",
    "\n",
    "# Iris warnings are quire verbose!\n",
    "with warnings.catch_warnings():\n",
    "    warnings.simplefilter(\"ignore\")\n",
    "    cubes = e.to_iris()\n",
    "\n",
    "print(cubes)"
   ]
  },
  {
   "cell_type": "code",
   "execution_count": 41,
   "metadata": {
    "scrolled": false
   },
   "outputs": [
    {
     "data": {
      "text/html": [
       "\n",
       "<style>\n",
       "  a.iris {\n",
       "      text-decoration: none !important;\n",
       "  }\n",
       "  table.iris {\n",
       "      white-space: pre;\n",
       "      border: 1px solid;\n",
       "      border-color: #9c9c9c;\n",
       "      font-family: monaco, monospace;\n",
       "  }\n",
       "  th.iris {\n",
       "      background: #303f3f;\n",
       "      color: #e0e0e0;\n",
       "      border-left: 1px solid;\n",
       "      border-color: #9c9c9c;\n",
       "      font-size: 1.05em;\n",
       "      min-width: 50px;\n",
       "      max-width: 125px;\n",
       "  }\n",
       "  tr.iris :first-child {\n",
       "      border-right: 1px solid #9c9c9c !important;\n",
       "  }\n",
       "  td.iris-title {\n",
       "      background: #d5dcdf;\n",
       "      border-top: 1px solid #9c9c9c;\n",
       "      font-weight: bold;\n",
       "  }\n",
       "  .iris-word-cell {\n",
       "      text-align: left !important;\n",
       "      white-space: pre;\n",
       "  }\n",
       "  .iris-subheading-cell {\n",
       "      padding-left: 2em !important;\n",
       "  }\n",
       "  .iris-inclusion-cell {\n",
       "      padding-right: 1em !important;\n",
       "  }\n",
       "  .iris-panel-body {\n",
       "      padding-top: 0px;\n",
       "  }\n",
       "  .iris-panel-title {\n",
       "      padding-left: 3em;\n",
       "  }\n",
       "  .iris-panel-title {\n",
       "      margin-top: 7px;\n",
       "  }\n",
       "</style>\n",
       "<table class=\"iris\" id=\"140296679372224\">\n",
       "    <tr class=\"iris\">\n",
       "<th class=\"iris iris-word-cell\">Sea Water Pressure (dbar)</th>\n",
       "<th class=\"iris iris-word-cell\">--</th>\n",
       "</tr>\n",
       "    <tr class=\"iris\">\n",
       "<td class=\"iris-word-cell iris-subheading-cell\">Shape</td>\n",
       "<td class=\"iris iris-inclusion-cell\">16232</td>\n",
       "</td>\n",
       "    <tr class=\"iris\">\n",
       "    <td class=\"iris-title iris-word-cell\">Attributes</td>\n",
       "    <td class=\"iris-title\"></td>\n",
       "</tr>\n",
       "<tr class=\"iris\">\n",
       "    <td class=\"iris-word-cell iris-subheading-cell\">\tConventions</td>\n",
       "    <td class=\"iris-word-cell\" colspan=\"1\">Unidata Dataset Discovery v1.0, COARDS, CF-1.6</td>\n",
       "</tr>\n",
       "<tr class=\"iris\">\n",
       "    <td class=\"iris-word-cell iris-subheading-cell\">\tEasternmost_Easting</td>\n",
       "    <td class=\"iris-word-cell\" colspan=\"1\">-69.98303682074565</td>\n",
       "</tr>\n",
       "<tr class=\"iris\">\n",
       "    <td class=\"iris-word-cell iris-subheading-cell\">\tMetadata_Conventions</td>\n",
       "    <td class=\"iris-word-cell\" colspan=\"1\">Unidata Dataset Discovery v1.0, COARDS, CF-1.6</td>\n",
       "</tr>\n",
       "<tr class=\"iris\">\n",
       "    <td class=\"iris-word-cell iris-subheading-cell\">\tNorthernmost_Northing</td>\n",
       "    <td class=\"iris-word-cell\" colspan=\"1\">39.91726417227544</td>\n",
       "</tr>\n",
       "<tr class=\"iris\">\n",
       "    <td class=\"iris-word-cell iris-subheading-cell\">\tSouthernmost_Northing</td>\n",
       "    <td class=\"iris-word-cell\" colspan=\"1\">39.32370673037986</td>\n",
       "</tr>\n",
       "<tr class=\"iris\">\n",
       "    <td class=\"iris-word-cell iris-subheading-cell\">\tWesternmost_Easting</td>\n",
       "    <td class=\"iris-word-cell\" colspan=\"1\">-71.18259602604894</td>\n",
       "</tr>\n",
       "<tr class=\"iris\">\n",
       "    <td class=\"iris-word-cell iris-subheading-cell\">\t_ChunkSizes</td>\n",
       "    <td class=\"iris-word-cell\" colspan=\"1\">1</td>\n",
       "</tr>\n",
       "<tr class=\"iris\">\n",
       "    <td class=\"iris-word-cell iris-subheading-cell\">\tacknowledgement</td>\n",
       "    <td class=\"iris-word-cell\" colspan=\"1\">Funding provided by the National Science Foundation.  Glider deployed by...</td>\n",
       "</tr>\n",
       "<tr class=\"iris\">\n",
       "    <td class=\"iris-word-cell iris-subheading-cell\">\tactual_range</td>\n",
       "    <td class=\"iris-word-cell\" colspan=\"1\">[-4.0000e-02  9.8658e+02]</td>\n",
       "</tr>\n",
       "<tr class=\"iris\">\n",
       "    <td class=\"iris-word-cell iris-subheading-cell\">\tcdm_data_type</td>\n",
       "    <td class=\"iris-word-cell\" colspan=\"1\">TrajectoryProfile</td>\n",
       "</tr>\n",
       "<tr class=\"iris\">\n",
       "    <td class=\"iris-word-cell iris-subheading-cell\">\tcdm_profile_variables</td>\n",
       "    <td class=\"iris-word-cell\" colspan=\"1\">time_uv,lat_uv,lon_uv,u,v,profile_id,time,latitude,longitude</td>\n",
       "</tr>\n",
       "<tr class=\"iris\">\n",
       "    <td class=\"iris-word-cell iris-subheading-cell\">\tcdm_trajectory_variables</td>\n",
       "    <td class=\"iris-word-cell\" colspan=\"1\">trajectory,wmo_id</td>\n",
       "</tr>\n",
       "<tr class=\"iris\">\n",
       "    <td class=\"iris-word-cell iris-subheading-cell\">\tcolorBarMaximum</td>\n",
       "    <td class=\"iris-word-cell\" colspan=\"1\">2000.0</td>\n",
       "</tr>\n",
       "<tr class=\"iris\">\n",
       "    <td class=\"iris-word-cell iris-subheading-cell\">\tcolorBarMinimum</td>\n",
       "    <td class=\"iris-word-cell\" colspan=\"1\">0.0</td>\n",
       "</tr>\n",
       "<tr class=\"iris\">\n",
       "    <td class=\"iris-word-cell iris-subheading-cell\">\tcontributor_name</td>\n",
       "    <td class=\"iris-word-cell\" colspan=\"1\">Paul Matthias,Peter Brickley,Sheri White,Diana Wickman,John Kerfoot</td>\n",
       "</tr>\n",
       "<tr class=\"iris\">\n",
       "    <td class=\"iris-word-cell iris-subheading-cell\">\tcontributor_role</td>\n",
       "    <td class=\"iris-word-cell\" colspan=\"1\">CGSN Program Manager,CGSN Operations Engineer,CGSN Operations Engineer,CGSN...</td>\n",
       "</tr>\n",
       "<tr class=\"iris\">\n",
       "    <td class=\"iris-word-cell iris-subheading-cell\">\tcreator_email</td>\n",
       "    <td class=\"iris-word-cell\" colspan=\"1\">kerfoot@marine.rutgers.edu</td>\n",
       "</tr>\n",
       "<tr class=\"iris\">\n",
       "    <td class=\"iris-word-cell iris-subheading-cell\">\tcreator_name</td>\n",
       "    <td class=\"iris-word-cell\" colspan=\"1\">John Kerfoot</td>\n",
       "</tr>\n",
       "<tr class=\"iris\">\n",
       "    <td class=\"iris-word-cell iris-subheading-cell\">\tcreator_url</td>\n",
       "    <td class=\"iris-word-cell\" colspan=\"1\">http://rucool.marine.rutgers.edu</td>\n",
       "</tr>\n",
       "<tr class=\"iris\">\n",
       "    <td class=\"iris-word-cell iris-subheading-cell\">\tdate_created</td>\n",
       "    <td class=\"iris-word-cell\" colspan=\"1\">2017-04-19T14:33:41Z</td>\n",
       "</tr>\n",
       "<tr class=\"iris\">\n",
       "    <td class=\"iris-word-cell iris-subheading-cell\">\tdate_issued</td>\n",
       "    <td class=\"iris-word-cell\" colspan=\"1\">2017-04-19T14:33:41Z</td>\n",
       "</tr>\n",
       "<tr class=\"iris\">\n",
       "    <td class=\"iris-word-cell iris-subheading-cell\">\tdate_modified</td>\n",
       "    <td class=\"iris-word-cell\" colspan=\"1\">2017-04-19T14:33:41Z</td>\n",
       "</tr>\n",
       "<tr class=\"iris\">\n",
       "    <td class=\"iris-word-cell iris-subheading-cell\">\tdeployment_number</td>\n",
       "    <td class=\"iris-word-cell\" colspan=\"1\">4</td>\n",
       "</tr>\n",
       "<tr class=\"iris\">\n",
       "    <td class=\"iris-word-cell iris-subheading-cell\">\tfeatureType</td>\n",
       "    <td class=\"iris-word-cell\" colspan=\"1\">TrajectoryProfile</td>\n",
       "</tr>\n",
       "<tr class=\"iris\">\n",
       "    <td class=\"iris-word-cell iris-subheading-cell\">\tformat_version</td>\n",
       "    <td class=\"iris-word-cell\" colspan=\"1\">https://github.com/ioos/ioosngdac/tree/master/nc/template/IOOS_Glider_...</td>\n",
       "</tr>\n",
       "<tr class=\"iris\">\n",
       "    <td class=\"iris-word-cell iris-subheading-cell\">\tgeospatial_lat_max</td>\n",
       "    <td class=\"iris-word-cell\" colspan=\"1\">39.91726417227544</td>\n",
       "</tr>\n",
       "<tr class=\"iris\">\n",
       "    <td class=\"iris-word-cell iris-subheading-cell\">\tgeospatial_lat_min</td>\n",
       "    <td class=\"iris-word-cell\" colspan=\"1\">39.32370673037986</td>\n",
       "</tr>\n",
       "<tr class=\"iris\">\n",
       "    <td class=\"iris-word-cell iris-subheading-cell\">\tgeospatial_lat_units</td>\n",
       "    <td class=\"iris-word-cell\" colspan=\"1\">degrees_north</td>\n",
       "</tr>\n",
       "<tr class=\"iris\">\n",
       "    <td class=\"iris-word-cell iris-subheading-cell\">\tgeospatial_lon_max</td>\n",
       "    <td class=\"iris-word-cell\" colspan=\"1\">-69.98303682074565</td>\n",
       "</tr>\n",
       "<tr class=\"iris\">\n",
       "    <td class=\"iris-word-cell iris-subheading-cell\">\tgeospatial_lon_min</td>\n",
       "    <td class=\"iris-word-cell\" colspan=\"1\">-71.18259602604894</td>\n",
       "</tr>\n",
       "<tr class=\"iris\">\n",
       "    <td class=\"iris-word-cell iris-subheading-cell\">\tgeospatial_lon_units</td>\n",
       "    <td class=\"iris-word-cell\" colspan=\"1\">degrees_east</td>\n",
       "</tr>\n",
       "<tr class=\"iris\">\n",
       "    <td class=\"iris-word-cell iris-subheading-cell\">\tgeospatial_vertical_max</td>\n",
       "    <td class=\"iris-word-cell\" colspan=\"1\">976.756</td>\n",
       "</tr>\n",
       "<tr class=\"iris\">\n",
       "    <td class=\"iris-word-cell iris-subheading-cell\">\tgeospatial_vertical_min</td>\n",
       "    <td class=\"iris-word-cell\" colspan=\"1\">-0.03969577</td>\n",
       "</tr>\n",
       "<tr class=\"iris\">\n",
       "    <td class=\"iris-word-cell iris-subheading-cell\">\tgeospatial_vertical_positive</td>\n",
       "    <td class=\"iris-word-cell\" colspan=\"1\">down</td>\n",
       "</tr>\n",
       "<tr class=\"iris\">\n",
       "    <td class=\"iris-word-cell iris-subheading-cell\">\tgeospatial_vertical_units</td>\n",
       "    <td class=\"iris-word-cell\" colspan=\"1\">m</td>\n",
       "</tr>\n",
       "<tr class=\"iris\">\n",
       "    <td class=\"iris-word-cell iris-subheading-cell\">\thistory</td>\n",
       "    <td class=\"iris-word-cell\" colspan=\"1\">2017-04-19T14:33:35Z: Data Source /Users/kerfoot/datasets/ooi/dac/deployments/CP05MOAS-GL336-deployment0004-telemetered/nc-source/deployment0004_CP05MOAS-GL336-03-CTDGVM000-telemetered-ctdgv_m_glider_instrument_20170418T091545.141720-20170419T010002.022580.nc</td>\n",
       "</tr>\n",
       "<tr class=\"iris\">\n",
       "    <td class=\"iris-word-cell iris-subheading-cell\">\t2017-04-19T14</td>\n",
       "    <td class=\"iris-word-cell\" colspan=\"1\">3:41Z:...</td>\n",
       "</tr>\n",
       "<tr class=\"iris\">\n",
       "    <td class=\"iris-word-cell iris-subheading-cell\">\tid</td>\n",
       "    <td class=\"iris-word-cell\" colspan=\"1\">cp_336-20170116T125400Z</td>\n",
       "</tr>\n",
       "<tr class=\"iris\">\n",
       "    <td class=\"iris-word-cell iris-subheading-cell\">\tinfoUrl</td>\n",
       "    <td class=\"iris-word-cell\" colspan=\"1\">http://data.ioos.us/gliders/erddap/</td>\n",
       "</tr>\n",
       "<tr class=\"iris\">\n",
       "    <td class=\"iris-word-cell iris-subheading-cell\">\tinstitution</td>\n",
       "    <td class=\"iris-word-cell\" colspan=\"1\">Ocean Observatories Initiative</td>\n",
       "</tr>\n",
       "<tr class=\"iris\">\n",
       "    <td class=\"iris-word-cell iris-subheading-cell\">\tinstrument</td>\n",
       "    <td class=\"iris-word-cell\" colspan=\"1\">instrument_ctd</td>\n",
       "</tr>\n",
       "<tr class=\"iris\">\n",
       "    <td class=\"iris-word-cell iris-subheading-cell\">\tioos_category</td>\n",
       "    <td class=\"iris-word-cell\" colspan=\"1\">Pressure</td>\n",
       "</tr>\n",
       "<tr class=\"iris\">\n",
       "    <td class=\"iris-word-cell iris-subheading-cell\">\tioos_dac_checksum</td>\n",
       "    <td class=\"iris-word-cell\" colspan=\"1\">f42b729c0bf19af1b7229b21350ebaaf</td>\n",
       "</tr>\n",
       "<tr class=\"iris\">\n",
       "    <td class=\"iris-word-cell iris-subheading-cell\">\tioos_dac_completed</td>\n",
       "    <td class=\"iris-word-cell\" colspan=\"1\">False</td>\n",
       "</tr>\n",
       "<tr class=\"iris\">\n",
       "    <td class=\"iris-word-cell iris-subheading-cell\">\tkeywords</td>\n",
       "    <td class=\"iris-word-cell\" colspan=\"1\">AUVS > Autonomous Underwater Vehicles, Oceans > Ocean Pressure > Water...</td>\n",
       "</tr>\n",
       "<tr class=\"iris\">\n",
       "    <td class=\"iris-word-cell iris-subheading-cell\">\tkeywords_vocabulary</td>\n",
       "    <td class=\"iris-word-cell\" colspan=\"1\">GCMD Science Keywords</td>\n",
       "</tr>\n",
       "<tr class=\"iris\">\n",
       "    <td class=\"iris-word-cell iris-subheading-cell\">\tlicense</td>\n",
       "    <td class=\"iris-word-cell\" colspan=\"1\">All OOI data including data from OOI core sensors and all proposed sensors...</td>\n",
       "</tr>\n",
       "<tr class=\"iris\">\n",
       "    <td class=\"iris-word-cell iris-subheading-cell\">\tmetadata_link</td>\n",
       "    <td class=\"iris-word-cell\" colspan=\"1\">http://ooi.visualocean.net/sites/view/CP05MOAS</td>\n",
       "</tr>\n",
       "<tr class=\"iris\">\n",
       "    <td class=\"iris-word-cell iris-subheading-cell\">\tnaming_authority</td>\n",
       "    <td class=\"iris-word-cell\" colspan=\"1\">org.oceanobservatories</td>\n",
       "</tr>\n",
       "<tr class=\"iris\">\n",
       "    <td class=\"iris-word-cell iris-subheading-cell\">\tobservation_type</td>\n",
       "    <td class=\"iris-word-cell\" colspan=\"1\">calculated</td>\n",
       "</tr>\n",
       "<tr class=\"iris\">\n",
       "    <td class=\"iris-word-cell iris-subheading-cell\">\tplatform</td>\n",
       "    <td class=\"iris-word-cell\" colspan=\"1\">platform</td>\n",
       "</tr>\n",
       "<tr class=\"iris\">\n",
       "    <td class=\"iris-word-cell iris-subheading-cell\">\tplatform_type</td>\n",
       "    <td class=\"iris-word-cell\" colspan=\"1\">Slocum Glider</td>\n",
       "</tr>\n",
       "<tr class=\"iris\">\n",
       "    <td class=\"iris-word-cell iris-subheading-cell\">\tpositive</td>\n",
       "    <td class=\"iris-word-cell\" colspan=\"1\">down</td>\n",
       "</tr>\n",
       "<tr class=\"iris\">\n",
       "    <td class=\"iris-word-cell iris-subheading-cell\">\tprocessing_level</td>\n",
       "    <td class=\"iris-word-cell\" colspan=\"1\">Contains any/all of the following: L0 Data (Unprocessed, parsed data product...</td>\n",
       "</tr>\n",
       "<tr class=\"iris\">\n",
       "    <td class=\"iris-word-cell iris-subheading-cell\">\tproject</td>\n",
       "    <td class=\"iris-word-cell\" colspan=\"1\">Ocean Observatories Initiative</td>\n",
       "</tr>\n",
       "<tr class=\"iris\">\n",
       "    <td class=\"iris-word-cell iris-subheading-cell\">\tpublisher_email</td>\n",
       "    <td class=\"iris-word-cell\" colspan=\"1\">kerfoot@marine.rutgers.edu</td>\n",
       "</tr>\n",
       "<tr class=\"iris\">\n",
       "    <td class=\"iris-word-cell iris-subheading-cell\">\tpublisher_name</td>\n",
       "    <td class=\"iris-word-cell\" colspan=\"1\">John Kerfoot</td>\n",
       "</tr>\n",
       "<tr class=\"iris\">\n",
       "    <td class=\"iris-word-cell iris-subheading-cell\">\tpublisher_url</td>\n",
       "    <td class=\"iris-word-cell\" colspan=\"1\">http://rucool.marine.rutgers.edu</td>\n",
       "</tr>\n",
       "<tr class=\"iris\">\n",
       "    <td class=\"iris-word-cell iris-subheading-cell\">\treference_datum</td>\n",
       "    <td class=\"iris-word-cell\" colspan=\"1\">sea-surface</td>\n",
       "</tr>\n",
       "<tr class=\"iris\">\n",
       "    <td class=\"iris-word-cell iris-subheading-cell\">\treferences</td>\n",
       "    <td class=\"iris-word-cell\" colspan=\"1\">http://oceanobservatories.org/</td>\n",
       "</tr>\n",
       "<tr class=\"iris\">\n",
       "    <td class=\"iris-word-cell iris-subheading-cell\">\tsea_name</td>\n",
       "    <td class=\"iris-word-cell\" colspan=\"1\">Mid-Atlantic Bight</td>\n",
       "</tr>\n",
       "<tr class=\"iris\">\n",
       "    <td class=\"iris-word-cell iris-subheading-cell\">\tsource</td>\n",
       "    <td class=\"iris-word-cell\" colspan=\"1\">Observational data from a profiling glider</td>\n",
       "</tr>\n",
       "<tr class=\"iris\">\n",
       "    <td class=\"iris-word-cell iris-subheading-cell\">\tsourceUrl</td>\n",
       "    <td class=\"iris-word-cell\" colspan=\"1\">(local files)</td>\n",
       "</tr>\n",
       "<tr class=\"iris\">\n",
       "    <td class=\"iris-word-cell iris-subheading-cell\">\tsource_variable</td>\n",
       "    <td class=\"iris-word-cell\" colspan=\"1\">sci_water_pressure_dbar</td>\n",
       "</tr>\n",
       "<tr class=\"iris\">\n",
       "    <td class=\"iris-word-cell iris-subheading-cell\">\tstandard_name_vocabulary</td>\n",
       "    <td class=\"iris-word-cell\" colspan=\"1\">CF Standard Name Table v27</td>\n",
       "</tr>\n",
       "<tr class=\"iris\">\n",
       "    <td class=\"iris-word-cell iris-subheading-cell\">\tsubsetVariables</td>\n",
       "    <td class=\"iris-word-cell\" colspan=\"1\">trajectory,wmo_id,time_uv,lat_uv,lon_uv,u,v,profile_id,time,latitude,l...</td>\n",
       "</tr>\n",
       "<tr class=\"iris\">\n",
       "    <td class=\"iris-word-cell iris-subheading-cell\">\tsummary</td>\n",
       "    <td class=\"iris-word-cell\" colspan=\"1\">The Pioneer Array is located off the coast of New England, south of Martha's...</td>\n",
       "</tr>\n",
       "<tr class=\"iris\">\n",
       "    <td class=\"iris-word-cell iris-subheading-cell\">\ttime_coverage_end</td>\n",
       "    <td class=\"iris-word-cell\" colspan=\"1\">2017-02-09T23:03:25Z</td>\n",
       "</tr>\n",
       "<tr class=\"iris\">\n",
       "    <td class=\"iris-word-cell iris-subheading-cell\">\ttime_coverage_start</td>\n",
       "    <td class=\"iris-word-cell\" colspan=\"1\">2017-01-16T13:03:04Z</td>\n",
       "</tr>\n",
       "<tr class=\"iris\">\n",
       "    <td class=\"iris-word-cell iris-subheading-cell\">\ttitle</td>\n",
       "    <td class=\"iris-word-cell\" colspan=\"1\">cp_336-20170116T1254</td>\n",
       "</tr>\n",
       "<tr class=\"iris\">\n",
       "    <td class=\"iris-word-cell iris-subheading-cell\">\tvalid_max</td>\n",
       "    <td class=\"iris-word-cell\" colspan=\"1\">2000.0</td>\n",
       "</tr>\n",
       "<tr class=\"iris\">\n",
       "    <td class=\"iris-word-cell iris-subheading-cell\">\tvalid_min</td>\n",
       "    <td class=\"iris-word-cell\" colspan=\"1\">0.0</td>\n",
       "</tr>\n",
       "</table>\n",
       "        "
      ],
      "text/plain": [
       "<iris 'Cube' of sea_water_pressure / (dbar) (-- : 16232)>"
      ]
     },
     "execution_count": 41,
     "metadata": {},
     "output_type": "execute_result"
    }
   ],
   "source": [
    "cubes.extract_strict(\"sea_water_pressure\")"
   ]
  },
  {
   "cell_type": "markdown",
   "metadata": {},
   "source": [
    "This example is written in a Jupyter Notebook\n",
    "[click here](https://raw.githubusercontent.com/ioos/erddapy/master/notebooks/quick_intro.ipynb)\n",
    "to download the notebook so you can run it locally, or [click here](https://binder.pangeo.io/v2/gh/ioos/erddapy/master?filepath=notebooks/quick_intro.ipynb) to run a live instance of this notebook."
   ]
  }
 ],
 "metadata": {
  "_draft": {
   "nbviewer_url": "https://gist.github.com/7e5eab16282538d11fdab7de5bd0c474"
  },
  "gist": {
   "data": {
    "description": "ERDDAP_advanced_glider_search.ipynb",
    "public": true
   },
   "id": "7e5eab16282538d11fdab7de5bd0c474"
  },
  "gist_id": "3f0f25b13ade0c64c84607bd92903d1b",
  "kernelspec": {
   "display_name": "Python 3",
   "language": "python",
   "name": "python3"
  },
  "language_info": {
   "codemirror_mode": {
    "name": "ipython",
    "version": 3
   },
   "file_extension": ".py",
   "mimetype": "text/x-python",
   "name": "python",
   "nbconvert_exporter": "python",
   "pygments_lexer": "ipython3",
   "version": "3.7.3"
  }
 },
 "nbformat": 4,
 "nbformat_minor": 1
}
